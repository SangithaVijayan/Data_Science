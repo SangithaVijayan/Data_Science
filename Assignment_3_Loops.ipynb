{
 "cells": [
  {
   "attachments": {},
   "cell_type": "markdown",
   "metadata": {},
   "source": [
    "\"Liked - Top notch display, gorgeous display, heavyly and seriously powerful device thanks to 8+ gen 1. Tremendous battery life in heavy usage. Super cool device. Silky buttery experience with blazing fast performance. good sound quality. The form factor is really good. \""
   ]
  },
  {
   "attachments": {},
   "cell_type": "markdown",
   "metadata": {},
   "source": [
    "<ul>    1.find the number of words that has even length and lenght should b greater than 6  </ul>\n",
    "<ul>    2.count the number of vowels and consonants  </ul>\n",
    "<ul>    3.count the number of words that has small and capital  </ul>\n",
    "<ul>    4.count the number of words that ends with \"e\"  </ul>\n",
    "<ul>    5.count the number of words that has starting letter as capital and number  </ul>\n",
    "<ul>    6.find the difference between even lenht words and odd length words  </ul>\n",
    "<ul>    7.'dekiL - poT hcton'  ### each word reverse and construct full string  </ul>\n",
    "<ul>    8. store the words that starts with a and lenght is odd  </ul>"
   ]
  },
  {
   "cell_type": "code",
   "execution_count": 29,
   "metadata": {},
   "outputs": [
    {
     "data": {
      "text/plain": [
       "'Liked - Top notch display, gorgeous display, heavyly and seriously powerful device thanks to 8+ gen 1. Tremendous battery life in heavy usage. Super cool device. Silky buttery experience with blazing fast performance. good sound quality. The form factor is really good. '"
      ]
     },
     "execution_count": 29,
     "metadata": {},
     "output_type": "execute_result"
    }
   ],
   "source": [
    "x = \"Liked - Top notch display, gorgeous display, heavyly and seriously powerful device thanks to 8+ gen 1. Tremendous battery life in heavy usage. Super cool device. Silky buttery experience with blazing fast performance. good sound quality. The form factor is really good. \"\n",
    "x"
   ]
  },
  {
   "cell_type": "code",
   "execution_count": 16,
   "metadata": {},
   "outputs": [
    {
     "name": "stdout",
     "output_type": "stream",
     "text": [
      "Even length word: GORGEOUS ; Length of the word:8\n",
      "Even length word: POWERFUL ; Length of the word:8\n",
      "Even length word: TREMENDOUS ; Length of the word:10\n",
      "Even length word: EXPERIENCE ; Length of the word:10\n",
      "Even length word: PERFORMANCE. ; Length of the word:12\n",
      "Even length word: QUALITY. ; Length of the word:8\n"
     ]
    }
   ],
   "source": [
    "# 1.find the number of words that has even length and length should b greater than 6\n",
    "spl_chr = [\".\",\",\"]\n",
    "for j in spl_chr:\n",
    "    y=x.replace(j,\"\")\n",
    "\n",
    "y1 = y.split()\n",
    "\n",
    "for i in y1:\n",
    "    if len(i)%2==0 and len(i)>6:\n",
    "        print(\"Even length word: \" + i.upper(), \"; Length of the word:\" + str(len(i)))"
   ]
  },
  {
   "cell_type": "code",
   "execution_count": 17,
   "metadata": {},
   "outputs": [
    {
     "name": "stdout",
     "output_type": "stream",
     "text": [
      "Number of vowels in the given review = 81\n",
      "Number of consonants in the given review = 189\n"
     ]
    }
   ],
   "source": [
    "# 2.count the number of vowels and consonants\n",
    "vowels = [\"a\",\"e\",\"i\",\"o\",\"u\"]\n",
    "vowels_count = 0\n",
    "consonants_count = 0\n",
    "for i in x.lower():\n",
    "    if i in vowels:\n",
    "        vowels_count += 1\n",
    "    else:\n",
    "        consonants_count += 1\n",
    "    \n",
    "print (\"Number of vowels in the given review =\",vowels_count)\n",
    "print(\"Number of consonants in the given review =\",consonants_count)\n",
    "\n"
   ]
  },
  {
   "cell_type": "code",
   "execution_count": 20,
   "metadata": {},
   "outputs": [
    {
     "name": "stdout",
     "output_type": "stream",
     "text": [
      "Word: s ; Count: 11\n",
      "Word: T ; Count: 3\n",
      "Word: L ; Count: 1\n",
      "Word: S ; Count: 2\n",
      "Word: t ; Count: 11\n",
      "Word: l ; Count: 12\n"
     ]
    }
   ],
   "source": [
    "# 3.count the number of words that has small and capital\n",
    "spl_chr = [\".\",\",\",\"+\",\"-\",\" \"]\n",
    "numbers = list(range(0,10))\n",
    "for j in spl_chr:\n",
    "    x=x.replace(j,\"\")\n",
    "    for n in numbers:\n",
    "        x=x.replace(str(n),\"\")\n",
    "    \n",
    "xy = list(set(x))\n",
    "for i in xy:\n",
    "    if (x.count(i.lower())>0) and (x.count(i.upper())>0):\n",
    "        print(\"Word: \" +i, \"; Count: \" + str(x.count(i)))"
   ]
  },
  {
   "cell_type": "code",
   "execution_count": 22,
   "metadata": {},
   "outputs": [
    {
     "name": "stdout",
     "output_type": "stream",
     "text": [
      "Count: 1 ; Word ending with e: device\n",
      "Count: 1 ; Word ending with e: life\n",
      "Count: 1 ; Word ending with e: usage\n",
      "Count: 1 ; Word ending with e: device\n",
      "Count: 1 ; Word ending with e: experience\n",
      "Count: 1 ; Word ending with e: performance\n",
      "Count: 1 ; Word ending with e: The\n"
     ]
    }
   ],
   "source": [
    "#4.count the number of words that ends with \"e\" \n",
    "spl_chr = [\".\",\",\",\"+\",\"-\"]\n",
    "numbers = list(range(0,10))\n",
    "for j in spl_chr:\n",
    "    x=x.replace(j,\"\")\n",
    "    for n in numbers:\n",
    "        x=x.replace(str(n),\"\")\n",
    "\n",
    "r = x.split(\" \")\n",
    "for e in r:\n",
    "    if e.endswith(\"e\")==True:\n",
    "        print(\"Count: \" + str(e.count(e)),\"; Word ending with e: \"+ e)"
   ]
  },
  {
   "cell_type": "code",
   "execution_count": 30,
   "metadata": {},
   "outputs": [
    {
     "data": {
      "text/plain": [
       "'Liked  Top notch display gorgeous display heavyly and seriously powerful device thanks to  gen  Tremendous battery life in heavy usage Super cool device Silky buttery experience with blazing fast performance good sound quality The form factor is really good '"
      ]
     },
     "execution_count": 30,
     "metadata": {},
     "output_type": "execute_result"
    }
   ],
   "source": []
  },
  {
   "cell_type": "code",
   "execution_count": 27,
   "metadata": {},
   "outputs": [
    {
     "name": "stdout",
     "output_type": "stream",
     "text": [
      "Word starting with capital: Liked ; Count: 1\n",
      "Word starting with capital: Top ; Count: 1\n",
      "Word starting with capital: Tremendous ; Count: 1\n",
      "Word starting with capital: Super ; Count: 1\n",
      "Word starting with capital: Silky ; Count: 1\n",
      "Word starting with capital: The ; Count: 1\n"
     ]
    }
   ],
   "source": [
    "#5.count the number of words that has starting letter as capital and count\n",
    "h=x.split()\n",
    "l=list(map(chr, range(65,91)))\n",
    "for i in h:\n",
    "    for j in l:\n",
    "        if i.startswith(j):\n",
    "            print(\"Word starting with capital: \" +i, \"; Count: \" + str(i.count(i)))"
   ]
  },
  {
   "cell_type": "code",
   "execution_count": 31,
   "metadata": {},
   "outputs": [
    {
     "name": "stdout",
     "output_type": "stream",
     "text": [
      "Difference between even length words and odd length words: 6\n"
     ]
    }
   ],
   "source": [
    "#6.find the difference between even length words and odd length words\n",
    "h = x.split()\n",
    "even_length_count = 0\n",
    "odd_length_count = 0\n",
    "for i in h:\n",
    "    if len(i)%2==0:\n",
    "        even_length_count += 1\n",
    "    else:\n",
    "        odd_length_count += 1\n",
    "print(\"Difference between even length words and odd length words: \" + str(even_length_count - odd_length_count))"
   ]
  },
  {
   "cell_type": "code",
   "execution_count": 32,
   "metadata": {},
   "outputs": [
    {
     "data": {
      "text/plain": [
       "' dekiL - poT hcton ,yalpsid suoegrog ,yalpsid ylyvaeh dna ylsuoires lufrewop ecived sknaht ot +8 neg .1 suodnemerT yrettab efil ni yvaeh .egasu repuS looc .ecived ykliS yrettub ecneirepxe htiw gnizalb tsaf .ecnamrofrep doog dnuos .ytilauq ehT mrof rotcaf si yllaer .doog'"
      ]
     },
     "execution_count": 32,
     "metadata": {},
     "output_type": "execute_result"
    }
   ],
   "source": [
    "# 7.'dekiL - poT hcton'  ### each word reverse and construct full string\n",
    "h=x.split()\n",
    "rev = \"\"\n",
    "for i in h:\n",
    "    rev =  rev + \" \" + i[::-1]\n",
    "\n",
    "rev"
   ]
  },
  {
   "cell_type": "code",
   "execution_count": 33,
   "metadata": {},
   "outputs": [
    {
     "name": "stdout",
     "output_type": "stream",
     "text": [
      "['and']\n"
     ]
    }
   ],
   "source": [
    "#8. store the words that starts with a and lenght is odd  </ul>\n",
    "x = x.lower()\n",
    "h=x.split()\n",
    "y = []\n",
    "for i in h:\n",
    "    if i.startswith(\"a\")==True and len(i)%2!=0:\n",
    "        y.append(i)\n",
    "        print(y)"
   ]
  },
  {
   "cell_type": "markdown",
   "metadata": {},
   "source": []
  }
 ],
 "metadata": {
  "kernelspec": {
   "display_name": "Python 3",
   "language": "python",
   "name": "python3"
  },
  "language_info": {
   "codemirror_mode": {
    "name": "ipython",
    "version": 3
   },
   "file_extension": ".py",
   "mimetype": "text/x-python",
   "name": "python",
   "nbconvert_exporter": "python",
   "pygments_lexer": "ipython3",
   "version": "3.10.4"
  },
  "orig_nbformat": 4,
  "vscode": {
   "interpreter": {
    "hash": "3ad933181bd8a04b432d3370b9dc3b0662ad032c4dfaa4e4f1596c548f763858"
   }
  }
 },
 "nbformat": 4,
 "nbformat_minor": 2
}
