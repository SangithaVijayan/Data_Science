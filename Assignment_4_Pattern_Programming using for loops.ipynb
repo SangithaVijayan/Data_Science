{
 "cells": [
  {
   "attachments": {},
   "cell_type": "markdown",
   "metadata": {},
   "source": [
    "<ul>    Pattern Programming using for loops  </ul>"
   ]
  },
  {
   "cell_type": "code",
   "execution_count": 2,
   "metadata": {},
   "outputs": [
    {
     "name": "stdout",
     "output_type": "stream",
     "text": [
      "1 \n",
      "1 2 \n",
      "1 2 3 \n",
      "1 2 3 4 \n",
      "1 2 3 4 5 \n"
     ]
    }
   ],
   "source": [
    "#Pattern 1:\n",
    "row = int(input())\n",
    "for i in range(1,row+1):\n",
    "    for j in range(1,i+1):\n",
    "        print(j,end=' ')\n",
    "    print('')"
   ]
  },
  {
   "cell_type": "code",
   "execution_count": 3,
   "metadata": {},
   "outputs": [
    {
     "name": "stdout",
     "output_type": "stream",
     "text": [
      "A \n",
      "A B \n",
      "A B C \n",
      "A B C D \n",
      "A B C D E \n"
     ]
    }
   ],
   "source": [
    "#Pattern 2:\n",
    "x = list(map(chr,range(65,91)))\n",
    "row = int(input())\n",
    "for i in range(0,row):\n",
    "    for j in range(0,i+1):\n",
    "        print(x[j],end=' ')\n",
    "    print('')"
   ]
  },
  {
   "cell_type": "code",
   "execution_count": 4,
   "metadata": {},
   "outputs": [
    {
     "name": "stdout",
     "output_type": "stream",
     "text": [
      " *\n",
      " * *\n",
      " * * *\n",
      " * * * *\n",
      " * * * * *\n"
     ]
    }
   ],
   "source": [
    "#Pattern 3:\n",
    "row = int(input())\n",
    "for i in range(1,row+1):\n",
    "    print((i) *\" *\")"
   ]
  },
  {
   "cell_type": "code",
   "execution_count": 5,
   "metadata": {},
   "outputs": [
    {
     "name": "stdout",
     "output_type": "stream",
     "text": [
      "1 \n",
      "2 2 \n",
      "3 3 3 \n",
      "4 4 4 4 \n",
      "5 5 5 5 5 \n"
     ]
    }
   ],
   "source": [
    "#Pattern 4:\n",
    "#Pattern 1:\n",
    "for i in range(1,6):\n",
    "    print((str(i)+\" \") *i)"
   ]
  },
  {
   "cell_type": "code",
   "execution_count": 6,
   "metadata": {},
   "outputs": [
    {
     "name": "stdout",
     "output_type": "stream",
     "text": [
      "\n",
      "A \n",
      "B B \n",
      "C C C \n",
      "D D D D \n",
      "E E E E E \n"
     ]
    }
   ],
   "source": [
    "#Pattern 5:\n",
    "x = list(map(chr, range(64,71)))\n",
    "for i in range(0,6):\n",
    "    print((x[i]+\" \") *i)"
   ]
  },
  {
   "cell_type": "code",
   "execution_count": 7,
   "metadata": {},
   "outputs": [
    {
     "name": "stdout",
     "output_type": "stream",
     "text": [
      "          * \n",
      "        * * \n",
      "      * * * \n",
      "    * * * * \n",
      "  * * * * * \n"
     ]
    }
   ],
   "source": [
    "#Pattern 6:\n",
    "for i in range(1,6):\n",
    "    print((6-i)*\"  \"+i*\"* \")"
   ]
  },
  {
   "cell_type": "code",
   "execution_count": 8,
   "metadata": {},
   "outputs": [
    {
     "name": "stdout",
     "output_type": "stream",
     "text": [
      "    1     \n",
      "   1 2    \n",
      "  1 2 3   \n",
      " 1 2 3 4  \n",
      "1 2 3 4 5 \n"
     ]
    }
   ],
   "source": [
    "#Pattern 7:\n",
    "a = 1\n",
    "x=\"\"\n",
    "for i in range(1,6):\n",
    "    for j in range(1,i+1):\n",
    "        x += str(j)+\" \"\n",
    "    print(x.center(10,\" \"))\n",
    "    a += 1\n",
    "    x=\"\""
   ]
  },
  {
   "cell_type": "code",
   "execution_count": 9,
   "metadata": {},
   "outputs": [
    {
     "name": "stdout",
     "output_type": "stream",
     "text": [
      "    5      \n",
      "   4 5     \n",
      "  3 4 5    \n",
      " 2 3 4 5   \n",
      "1 2 3 4 5  \n"
     ]
    }
   ],
   "source": [
    "#Pattern 8:\n",
    "a = 1\n",
    "x=\"\"\n",
    "for i in range(5,0,-1):\n",
    "    for j in range(6-a,6):\n",
    "        x+= str(j)+\" \"\n",
    "     \n",
    "    print(x.center(10,\" \"),end = \" \")\n",
    "    print(\"\")\n",
    "    a+=1\n",
    "    x=\"\""
   ]
  },
  {
   "cell_type": "code",
   "execution_count": 10,
   "metadata": {},
   "outputs": [
    {
     "name": "stdout",
     "output_type": "stream",
     "text": [
      "    A     \n",
      "   A B    \n",
      "  A B C   \n",
      " A B C D  \n",
      "A B C D E \n"
     ]
    }
   ],
   "source": [
    "#Pattern 9:\n",
    "a= 1\n",
    "x=\"\"\n",
    "for i in range(65,70):\n",
    "    for j in range(65,i+1):\n",
    "        x+=chr(j)+\" \"\n",
    "    print(x.center(10,\" \"))\n",
    "    a+=1\n",
    "    x= \"\""
   ]
  },
  {
   "cell_type": "code",
   "execution_count": 11,
   "metadata": {},
   "outputs": [
    {
     "name": "stdout",
     "output_type": "stream",
     "text": [
      "    E      \n",
      "   D E     \n",
      "  C D E    \n",
      " B C D E   \n",
      "A B C D E  \n"
     ]
    }
   ],
   "source": [
    "#Pattern 10:\n",
    "a = 0\n",
    "x=\"\"\n",
    "for i in range(69,64,-1):\n",
    "    for j in range(69-a,70):\n",
    "        x += chr(j)+\" \"\n",
    "    print(x.center(10,\" \"),end = \" \")\n",
    "    a+=1\n",
    "    x=\"\"\n",
    "    print()"
   ]
  },
  {
   "cell_type": "code",
   "execution_count": 12,
   "metadata": {},
   "outputs": [
    {
     "name": "stdout",
     "output_type": "stream",
     "text": [
      "         *          \n",
      "        ***         \n",
      "       *****        \n",
      "      *******       \n",
      "     *********      \n"
     ]
    }
   ],
   "source": [
    "#Pattern 11:\n",
    "for i in range(1,10):\n",
    "    if i%2!=0:\n",
    "        x = i*\"*\"\n",
    "        print(x.center(20,\" \"))\n",
    "    \n"
   ]
  },
  {
   "cell_type": "code",
   "execution_count": 13,
   "metadata": {},
   "outputs": [
    {
     "name": "stdout",
     "output_type": "stream",
     "text": [
      "    1     \n",
      "   2 2    \n",
      "  3 3 3   \n",
      " 4 4 4 4  \n",
      "5 5 5 5 5 \n"
     ]
    }
   ],
   "source": [
    "#Pattern 12:\n",
    "for i in range(1,6):\n",
    "    x = str(i)+\" \"\n",
    "    x=x*i\n",
    "    print(x.center(10,\" \"))"
   ]
  },
  {
   "cell_type": "code",
   "execution_count": 14,
   "metadata": {},
   "outputs": [
    {
     "name": "stdout",
     "output_type": "stream",
     "text": [
      "    A     \n",
      "   B B    \n",
      "  C C C   \n",
      " D D D D  \n",
      "E E E E E \n"
     ]
    }
   ],
   "source": [
    "#Pattern 13:\n",
    "a=1\n",
    "for i in range(65,70):\n",
    "    for j in range(0,6):\n",
    "        x = chr(i)+\" \"\n",
    "        x=x*a\n",
    "    print(x.center(10,\" \"))\n",
    "    a+=1"
   ]
  },
  {
   "cell_type": "code",
   "execution_count": 15,
   "metadata": {},
   "outputs": [
    {
     "name": "stdout",
     "output_type": "stream",
     "text": [
      "1 2 3 4 5 \n",
      "1 2 3 4 \n",
      "1 2 3 \n",
      "1 2 \n",
      "1 \n"
     ]
    }
   ],
   "source": [
    "#Pattern 14:\n",
    "x=\"\"\n",
    "for i in range(5,0,-1):\n",
    "    for j in range(1,i+1):\n",
    "        x += str(j)+\" \"\n",
    "    print(x)\n",
    "    x=\"\""
   ]
  },
  {
   "cell_type": "code",
   "execution_count": 16,
   "metadata": {},
   "outputs": [
    {
     "name": "stdout",
     "output_type": "stream",
     "text": [
      "54321 \n",
      "5432 \n",
      "543 \n",
      "54 \n",
      "5 \n"
     ]
    }
   ],
   "source": [
    "#Pattern 15:\n",
    "x=\"\"\n",
    "z=\"\"\n",
    "y=\"\"\n",
    "for i in range(5,0,-1):\n",
    "    for j in range(1,6):\n",
    "        x += str(j)\n",
    "        y=x[::-1]\n",
    "a=5\n",
    "for k in range(1,6):\n",
    "    z=str(y[:a])+\" \"\n",
    "    a-=1\n",
    "    print(z)\n",
    "   "
   ]
  },
  {
   "cell_type": "code",
   "execution_count": 17,
   "metadata": {},
   "outputs": [
    {
     "name": "stdout",
     "output_type": "stream",
     "text": [
      "5 \n",
      "5 4 \n",
      "5 4 3 \n",
      "5 4 3 2 \n",
      "5 4 3 2 1 \n"
     ]
    }
   ],
   "source": [
    "#Pattern 16:\n",
    "x=\"\"\n",
    "z=\"\"\n",
    "y=\"\"\n",
    "for i in range(5,0,-1):\n",
    "    for j in range(1,6):\n",
    "        x += str(j)\n",
    "        y=x[::-1]\n",
    "    \n",
    "for k in range(0,5):\n",
    "    z=z+y[k]+\" \"\n",
    "    print(z)"
   ]
  },
  {
   "cell_type": "code",
   "execution_count": 18,
   "metadata": {},
   "outputs": [
    {
     "name": "stdout",
     "output_type": "stream",
     "text": [
      "1 \n",
      "2 3 \n",
      "4 5 6 \n",
      "7 8 9 10 \n",
      "11 12 13 14 15 \n"
     ]
    }
   ],
   "source": [
    "#Pattern 17:\n",
    "a = 1\n",
    "for i in range(0,5):\n",
    "    for j in range(0, i+1):\n",
    "        print(a, end=\" \")\n",
    "        a+= 1\n",
    "    print()"
   ]
  },
  {
   "cell_type": "code",
   "execution_count": 19,
   "metadata": {},
   "outputs": [
    {
     "name": "stdout",
     "output_type": "stream",
     "text": [
      "A B C D E  \n",
      "A B C D  \n",
      "A B C  \n",
      "A B  \n",
      "A  \n"
     ]
    }
   ],
   "source": [
    "#Pattern 18:\n",
    "a = 0\n",
    "x=\"\"\n",
    "for i in range(1,6):\n",
    "    for j in range(65,70-a):\n",
    "        x += chr(j)+\" \"\n",
    "    print(x,end = \" \")\n",
    "    a+=1\n",
    "    x=\"\"\n",
    "    print()"
   ]
  },
  {
   "cell_type": "code",
   "execution_count": 20,
   "metadata": {},
   "outputs": [
    {
     "name": "stdout",
     "output_type": "stream",
     "text": [
      "* \n",
      "* * \n",
      "* * * \n",
      "* * * * \n",
      "* * * * * \n"
     ]
    }
   ],
   "source": [
    "#Pattern 19:\n",
    "x=\"\"\n",
    "for i in range(1,6):\n",
    "    print(i*\"* \")"
   ]
  },
  {
   "cell_type": "code",
   "execution_count": 21,
   "metadata": {},
   "outputs": [
    {
     "name": "stdout",
     "output_type": "stream",
     "text": [
      "     * \n",
      "    * * \n",
      "   * * * \n",
      "  * * * * \n",
      " * * * * * \n"
     ]
    }
   ],
   "source": [
    "#Pattern 20:\n",
    "x=\"\"\n",
    "a=5\n",
    "for i in range(1,6):\n",
    "    x=str(a*\" \")\n",
    "    print(x+i*\"* \")\n",
    "    a-=1"
   ]
  },
  {
   "cell_type": "code",
   "execution_count": 22,
   "metadata": {},
   "outputs": [
    {
     "name": "stdout",
     "output_type": "stream",
     "text": [
      "* * * * * \n",
      " * * * * \n",
      "  * * * \n",
      "   * * \n",
      "    * \n"
     ]
    }
   ],
   "source": [
    "#Pattern 21:\n",
    "x=\"\"\n",
    "a=0\n",
    "for i in range(5,0,-1):\n",
    "    x=str(a*\" \")\n",
    "    print(x+i*\"* \")\n",
    "    a+=1"
   ]
  },
  {
   "cell_type": "code",
   "execution_count": 23,
   "metadata": {},
   "outputs": [
    {
     "name": "stdout",
     "output_type": "stream",
     "text": [
      "* \n",
      "* * \n",
      "* * * \n",
      "* * * * \n",
      "* * * * * \n",
      "* * * * \n",
      "* * * \n",
      "* * \n",
      "* \n"
     ]
    }
   ],
   "source": [
    "#Pattern 22:\n",
    "row = int(input())\n",
    "for i in range(1,row+1):\n",
    "    print(i*\"* \")\n",
    "for j in range(row-1,0,-1):\n",
    "    print(j*\"* \")\n"
   ]
  },
  {
   "cell_type": "code",
   "execution_count": 24,
   "metadata": {},
   "outputs": [
    {
     "name": "stdout",
     "output_type": "stream",
     "text": [
      "* * * * * \n",
      "* * * * \n",
      "* * * \n",
      "* * \n",
      "* \n",
      "* * \n",
      "* * * \n",
      "* * * * \n",
      "* * * * * \n"
     ]
    }
   ],
   "source": [
    "#Pattern 23:\n",
    "row = int(input())\n",
    "for i in range(row,1,-1):\n",
    "    print(i*\"* \")\n",
    "for j in range(1,row+1):\n",
    "    print(j*\"* \")\n"
   ]
  },
  {
   "cell_type": "code",
   "execution_count": 25,
   "metadata": {},
   "outputs": [
    {
     "name": "stdout",
     "output_type": "stream",
     "text": [
      "         * \n",
      "       * * \n",
      "     * * * \n",
      "   * * * * \n",
      " * * * * * \n",
      "   * * * * \n",
      "     * * * \n",
      "       * * \n",
      "         * \n"
     ]
    }
   ],
   "source": [
    "#Pattern 24:\n",
    "row = int(input())\n",
    "a=row\n",
    "b=0\n",
    "for i in range(1,row):\n",
    "    a-=1\n",
    "    print(a*\"  \",i*\"* \")\n",
    "for j in range(row,0,-1):\n",
    "    \n",
    "    print(b*\"  \",j*\"* \")\n",
    "    b+=1\n"
   ]
  },
  {
   "cell_type": "code",
   "execution_count": 26,
   "metadata": {},
   "outputs": [
    {
     "name": "stdout",
     "output_type": "stream",
     "text": [
      " * * * * * \n",
      "   * * * * \n",
      "     * * * \n",
      "       * * \n",
      "         * \n",
      "       * * \n",
      "     * * * \n",
      "   * * * * \n",
      " * * * * * \n"
     ]
    }
   ],
   "source": [
    "#Pattern 25:\n",
    "row = int(input())\n",
    "a=0\n",
    "b=row-1\n",
    "for i in range(row,1,-1):\n",
    "    print(a*\"  \",i*\"* \")\n",
    "    a+=1\n",
    "for j in range(1,row+1):\n",
    "    print(b*\"  \",j*\"* \")\n",
    "    b-=1\n"
   ]
  },
  {
   "cell_type": "code",
   "execution_count": 27,
   "metadata": {},
   "outputs": [
    {
     "name": "stdout",
     "output_type": "stream",
     "text": [
      "         *          \n",
      "       * * *        \n",
      "     * * * * *      \n",
      "   * * * * * * *    \n",
      " * * * * * * * * *  \n"
     ]
    }
   ],
   "source": [
    "#Pattern 26:\n",
    "x=\"\"\n",
    "for i in range(1,6):\n",
    "    x+=(2*i - 1)*\"* \"\n",
    "    print(x.center(20,\" \"))\n",
    "    x=\"\""
   ]
  },
  {
   "cell_type": "code",
   "execution_count": 28,
   "metadata": {},
   "outputs": [
    {
     "name": "stdout",
     "output_type": "stream",
     "text": [
      " * * * * * * * * *  \n",
      "   * * * * * * *    \n",
      "     * * * * *      \n",
      "       * * *        \n",
      "         *          \n",
      "       * * *        \n",
      "     * * * * *      \n",
      "   * * * * * * *    \n",
      " * * * * * * * * *  \n"
     ]
    }
   ],
   "source": [
    "#Pattern 27:\n",
    "x=\"\"\n",
    "y=\"\"\n",
    "for i in range(5,1,-1):\n",
    "    x+=(2*i - 1)*\"* \"\n",
    "    print(x.center(20,\" \"))\n",
    "    x=\"\"\n",
    "for j in range(1,6):\n",
    "    y+=(2*j - 1)*\"* \"\n",
    "    print(y.center(20,\" \"))\n",
    "    y=\"\""
   ]
  },
  {
   "cell_type": "code",
   "execution_count": 29,
   "metadata": {},
   "outputs": [
    {
     "name": "stdout",
     "output_type": "stream",
     "text": [
      "*        *\n",
      "**      **\n",
      "***    ***\n",
      "****  ****\n",
      "**********\n"
     ]
    }
   ],
   "source": [
    "#Pattern 28:\n",
    "row = int(input())\n",
    "a=row-1\n",
    "for i in range(1,row+1):\n",
    "    print(i*\"*\" +  2*a* \" \" + i*\"*\")\n",
    "    a-=1"
   ]
  },
  {
   "cell_type": "code",
   "execution_count": 30,
   "metadata": {},
   "outputs": [
    {
     "name": "stdout",
     "output_type": "stream",
     "text": [
      "**********\n",
      "****  ****\n",
      "***    ***\n",
      "**      **\n",
      "*        *\n"
     ]
    }
   ],
   "source": [
    "#Pattern 29:\n",
    "row = int(input())\n",
    "a=0\n",
    "for i in range(row,0,-1):\n",
    "    print(i*\"*\" +  2*a* \" \" + i*\"*\")\n",
    "    a+=1"
   ]
  },
  {
   "cell_type": "code",
   "execution_count": 31,
   "metadata": {},
   "outputs": [
    {
     "name": "stdout",
     "output_type": "stream",
     "text": [
      "*        *\n",
      "**      **\n",
      "***    ***\n",
      "****  ****\n",
      "**********\n",
      "****  ****\n",
      "***    ***\n",
      "**      **\n",
      "*        *\n"
     ]
    }
   ],
   "source": [
    "#Pattern 30:\n",
    "row = int(input())\n",
    "a=row-1\n",
    "b=0\n",
    "for i in range(1,row):\n",
    "    print(i*\"*\" +  2*a* \" \" + i*\"*\")\n",
    "    a-=1\n",
    "for j in range(row,0,-1):\n",
    "    print(j*\"*\" +  2*b* \" \" + j*\"*\")\n",
    "    b+=1\n"
   ]
  },
  {
   "cell_type": "code",
   "execution_count": 33,
   "metadata": {},
   "outputs": [
    {
     "name": "stdout",
     "output_type": "stream",
     "text": [
      "**********\n",
      "****  ****\n",
      "***    ***\n",
      "**      **\n",
      "*        *\n",
      "*        *\n",
      "**      **\n",
      "***    ***\n",
      "****  ****\n",
      "**********\n"
     ]
    }
   ],
   "source": [
    "#Pattern 31:\n",
    "row = int(input())\n",
    "a=row-1\n",
    "b=0\n",
    "for i in range(row,0,-1):\n",
    "    print(i*\"*\" +  2*b* \" \" + i*\"*\")\n",
    "    b+=1\n",
    "for j in range(1,row+1):\n",
    "    print(j*\"*\" +  2*a* \" \" + j*\"*\")\n",
    "    a-=1\n"
   ]
  },
  {
   "cell_type": "code",
   "execution_count": 34,
   "metadata": {},
   "outputs": [
    {
     "name": "stdout",
     "output_type": "stream",
     "text": [
      "*\n",
      "**\n",
      "* *\n",
      "*  *\n",
      "*****\n"
     ]
    }
   ],
   "source": [
    "#Pattern 32:\n",
    "row = int(input())\n",
    "a = -1\n",
    "for i in range(1,row+1):\n",
    "    if i == 1 or i == row:\n",
    "        print(i*\"*\")\n",
    "    else:\n",
    "        print(1*\"*\" + a * \" \" + 1*\"*\")\n",
    "    a+=1"
   ]
  },
  {
   "cell_type": "code",
   "execution_count": 35,
   "metadata": {},
   "outputs": [
    {
     "name": "stdout",
     "output_type": "stream",
     "text": [
      "*****\n",
      "*  *\n",
      "* *\n",
      "**\n",
      "*\n"
     ]
    }
   ],
   "source": [
    "#Pattern 33:\n",
    "row = int(input())\n",
    "a = row-2\n",
    "for i in range(row,0,-1):\n",
    "    if i <= 1 or i >= row:\n",
    "        print(i*\"*\")\n",
    "    else:\n",
    "        print(1*\"*\" + a * \" \" + 1*\"*\")\n",
    "    a-=1\n",
    "    \n",
    "    "
   ]
  },
  {
   "cell_type": "code",
   "execution_count": 36,
   "metadata": {},
   "outputs": [
    {
     "name": "stdout",
     "output_type": "stream",
     "text": [
      "     *\n",
      "    **\n",
      "   * *\n",
      "  *  *\n",
      " *****\n"
     ]
    }
   ],
   "source": [
    "#Pattern 34:\n",
    "row = int(input())\n",
    "a = -1\n",
    "b=row+1\n",
    "for i in range(1,row+1):\n",
    "    b-=1\n",
    "    if i == 1 or i == row:\n",
    "        print(b*\" \" +i*\"*\")\n",
    "    else:\n",
    "        print(b*\" \" +1*\"*\" + a * \" \" + 1*\"*\")\n",
    "    a+=1"
   ]
  },
  {
   "cell_type": "code",
   "execution_count": 37,
   "metadata": {},
   "outputs": [
    {
     "name": "stdout",
     "output_type": "stream",
     "text": [
      "*****\n",
      "*  *\n",
      "* *\n",
      "**\n",
      "*\n",
      "**\n",
      "* *\n",
      "*  *\n",
      "*****\n"
     ]
    }
   ],
   "source": [
    "#Pattern 35:\n",
    "row = int(input())\n",
    "a = row-2\n",
    "b=-1\n",
    "for i in range(row,1,-1):\n",
    "    if i <= 1 or i >= row:\n",
    "        print(i*\"*\")\n",
    "    else:\n",
    "        print(1*\"*\" + a * \" \" + 1*\"*\")\n",
    "    a-=1\n",
    "\n",
    "for j in range(1,row+1):\n",
    "    if j == 1 or j == row:\n",
    "        print(j*\"*\")\n",
    "    else:\n",
    "        print(1*\"*\" + b * \" \" + 1*\"*\")\n",
    "    b+=1"
   ]
  },
  {
   "cell_type": "code",
   "execution_count": 15,
   "metadata": {},
   "outputs": [
    {
     "name": "stdout",
     "output_type": "stream",
     "text": [
      "     *\n",
      "    **\n",
      "   * *\n",
      "  *  *\n",
      " *   *\n",
      "  *  *\n",
      "   * *\n",
      "    **\n",
      "     *\n"
     ]
    }
   ],
   "source": [
    "#Pattern 36:\n",
    "row = int(input())\n",
    "a = -1\n",
    "b=row+1\n",
    "d=row-2\n",
    "c = 1\n",
    "for i in range(1,row):\n",
    "    b-=1\n",
    "    if i == 1:\n",
    "        print(b*\" \" +i*\"*\")\n",
    "    else:\n",
    "        print(b*\" \" +1*\"*\" + a * \" \" + 1*\"*\")\n",
    "    a+=1\n",
    "\n",
    "for i in range(row,0,-1):\n",
    "    if i == 1:\n",
    "        print(row*\" \" +i*\"*\")\n",
    "    else:\n",
    "        print(c*\" \"+1*\"*\"+d*\" \"+1*\"*\")\n",
    "    c+=1\n",
    "    d-=1"
   ]
  },
  {
   "cell_type": "code",
   "execution_count": 38,
   "metadata": {},
   "outputs": [
    {
     "name": "stdout",
     "output_type": "stream",
     "text": [
      " *****\n",
      "  *  *\n",
      "   * *\n",
      "    **\n",
      "     *\n",
      "    **\n",
      "   * *\n",
      "  *  *\n",
      " *****\n"
     ]
    }
   ],
   "source": [
    "#Pattern 37:\n",
    "row = int(input())\n",
    "a = -1\n",
    "b=row+1\n",
    "c=1\n",
    "d=row-2\n",
    "for i in range(row,1,-1):\n",
    "    if i == 1:\n",
    "        print((row)*\" \" +i*\"*\")\n",
    "    elif i == row:\n",
    "        print(c*\" \" +i*\"*\")\n",
    "    else:\n",
    "        print(c*\" \"+1*\"*\"+d*\" \"+1*\"*\")\n",
    "    c+=1\n",
    "    d-=1\n",
    "for i in range(1,row+1):\n",
    "    b-=1\n",
    "    if i == 1 or i == row:\n",
    "        print(b*\" \" +i*\"*\")\n",
    "    else:\n",
    "        print(b*\" \" +1*\"*\" + a * \" \" + 1*\"*\")\n",
    "    a+=1 "
   ]
  },
  {
   "cell_type": "code",
   "execution_count": 2,
   "metadata": {},
   "outputs": [
    {
     "name": "stdout",
     "output_type": "stream",
     "text": [
      "    *     \n",
      "   * *    \n",
      "  *   *   \n",
      " *     *  \n",
      "********* \n"
     ]
    }
   ],
   "source": [
    "#Pattern 38:\n",
    "row = int(input())\n",
    "y=\"\"\n",
    "a=1\n",
    "for i in range(1,row+1):\n",
    "    if i == 1:\n",
    "        z= i*\"*\"\n",
    "        print(z.center(2*row,\" \"))\n",
    "    elif i== row:\n",
    "        z= (2*i-1)*\"*\"\n",
    "        print(z.center(2*row,\" \"))\n",
    "    else:\n",
    "        y= \"*\"+ (2*a-1) * \" \" + \"*\"\n",
    "        print(y.center(2*row,\" \"))\n",
    "        x=0\n",
    "        y=\"\"\n",
    "        a+=1"
   ]
  },
  {
   "cell_type": "code",
   "execution_count": 39,
   "metadata": {},
   "outputs": [
    {
     "name": "stdout",
     "output_type": "stream",
     "text": [
      "********* \n",
      " *     *  \n",
      "  *   *   \n",
      "   * *    \n",
      "    *     \n"
     ]
    }
   ],
   "source": [
    "#Pattern 39:\n",
    "row = int(input())\n",
    "y=\"\"\n",
    "a=row-1\n",
    "for i in range(row,0,-1):\n",
    "    if i == 1:\n",
    "        z= i*\"*\"\n",
    "        print(z.center(2*row,\" \"))\n",
    "    elif i== row:\n",
    "        z= (2*i-1)*\"*\"\n",
    "        print(z.center(2*row,\" \"))\n",
    "    else:\n",
    "        y= \"*\"+ (2*a-3) * \" \" + \"*\"\n",
    "        print(y.center(2*row,\" \"))\n",
    "        x=0\n",
    "        y=\"\"\n",
    "        a-=1"
   ]
  },
  {
   "cell_type": "code",
   "execution_count": 40,
   "metadata": {},
   "outputs": [
    {
     "name": "stdout",
     "output_type": "stream",
     "text": [
      "    *     \n",
      "   * *    \n",
      "  *   *   \n",
      " *     *  \n",
      "*       * \n",
      " *     *  \n",
      "  *   *   \n",
      "   * *    \n",
      "    *     \n"
     ]
    }
   ],
   "source": [
    "#Pattern 40:\n",
    "row = int(input())\n",
    "y=\"\"\n",
    "a=1\n",
    "x=\"\"\n",
    "b=row-1\n",
    "for i in range(1,row+1):\n",
    "    if i == 1:\n",
    "        z= i*\"*\"\n",
    "        print(z.center(2*row,\" \"))\n",
    "    else:\n",
    "        y= \"*\"+ (2*a-1) * \" \" + \"*\"\n",
    "        print(y.center(2*row,\" \"))\n",
    "        y=\"\"\n",
    "        a+=1\n",
    "\n",
    "for j in range(row,1,-1):\n",
    "    if j == 2:\n",
    "        z1= \"*\"\n",
    "        print(z1.center(2*row,\" \"))  \n",
    "    else:\n",
    "        x= \"*\"+ (2*b-3) * \" \" + \"*\"\n",
    "        print(x.center(2*row,\" \"))\n",
    "        x=\"\"\n",
    "        b-=1"
   ]
  },
  {
   "cell_type": "code",
   "execution_count": 41,
   "metadata": {},
   "outputs": [
    {
     "name": "stdout",
     "output_type": "stream",
     "text": [
      "********* \n",
      " *     *  \n",
      "  *   *   \n",
      "   * *    \n",
      "    *     \n",
      "   * *    \n",
      "  *   *   \n",
      " *     *  \n",
      "********* \n"
     ]
    }
   ],
   "source": [
    "#Pattern 41:\n",
    "row = int(input())\n",
    "y=\"\"\n",
    "a=row-1\n",
    "x=\"\"\n",
    "b=1\n",
    "for i in range(row,1,-1):\n",
    "    if i== row:\n",
    "        z= (2*i-1)*\"*\"\n",
    "        print(z.center(2*row,\" \"))\n",
    "    else:\n",
    "        y= \"*\"+ (2*a-3) * \" \" + \"*\"\n",
    "        print(y.center(2*row,\" \"))\n",
    "        y=\"\"\n",
    "        a-=1\n",
    "for i in range(1,row+1):\n",
    "    if i == 1:\n",
    "        z1= i*\"*\"\n",
    "        print(z1.center(2*row,\" \"))\n",
    "    elif i== row:\n",
    "        z1= (2*i-1)*\"*\"\n",
    "        print(z1.center(2*row,\" \"))\n",
    "    else:\n",
    "        x= \"*\"+ (2*b-1) * \" \" + \"*\"\n",
    "        print(x.center(2*row,\" \"))\n",
    "        x=\"\"\n",
    "        b+=1"
   ]
  },
  {
   "cell_type": "code",
   "execution_count": 42,
   "metadata": {},
   "outputs": [
    {
     "name": "stdout",
     "output_type": "stream",
     "text": [
      " *  *  *  *  * \n",
      " *  *  *  *  * \n",
      " *  *  *  *  * \n",
      " *  *  *  *  * \n",
      " *  *  *  *  * \n"
     ]
    }
   ],
   "source": [
    "#Pattern 42:\n",
    "row = int(input())\n",
    "for i in range(1,row+1):\n",
    "    for j in range(row,row+1):\n",
    "        print(j*\" * \")"
   ]
  }
 ],
 "metadata": {
  "kernelspec": {
   "display_name": "Python 3",
   "language": "python",
   "name": "python3"
  },
  "language_info": {
   "codemirror_mode": {
    "name": "ipython",
    "version": 3
   },
   "file_extension": ".py",
   "mimetype": "text/x-python",
   "name": "python",
   "nbconvert_exporter": "python",
   "pygments_lexer": "ipython3",
   "version": "3.10.4"
  },
  "orig_nbformat": 4,
  "vscode": {
   "interpreter": {
    "hash": "3ad933181bd8a04b432d3370b9dc3b0662ad032c4dfaa4e4f1596c548f763858"
   }
  }
 },
 "nbformat": 4,
 "nbformat_minor": 2
}
